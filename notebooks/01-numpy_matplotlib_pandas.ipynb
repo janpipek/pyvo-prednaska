{
 "cells": [
  {
   "cell_type": "markdown",
   "metadata": {},
   "source": [
    "# 1. Numpy, matplotlib, pandas - histogramy\n",
    "\n",
    "Stručná otázka toho, jak s histogramy pracují tři kanonické knihovny pro numerické počítání / analýzu dat v Pythonu.\n",
    "Omezíme se na jednorozměrné příklady, mějme však na paměti, že existují i funkce pro více dimenzí."
   ]
  },
  {
   "cell_type": "code",
   "execution_count": null,
   "metadata": {
    "collapsed": false
   },
   "outputs": [],
   "source": [
    "# Co jsme to dostali za soubor?\n",
    "!ls -lLh vsechny_teploty.csv.gz\n",
    "!zcat vsechny_teploty.csv.gz | head -n 10"
   ]
  },
  {
   "cell_type": "code",
   "execution_count": null,
   "metadata": {
    "collapsed": false
   },
   "outputs": [],
   "source": [
    "# Pojďme si data načíst\n",
    "import pandas as pd\n",
    "import numpy as np\n",
    "vsechny_teploty = np.asarray(pd.read_csv(\"vsechny_teploty.csv.gz\", squeeze=True, dtype=np.float32, header=None))"
   ]
  },
  {
   "cell_type": "code",
   "execution_count": null,
   "metadata": {
    "collapsed": false
   },
   "outputs": [],
   "source": [
    "# Zkontrolujme na několika prvních, že se nám načetly správně\n",
    "vsechny_teploty[:10]"
   ]
  },
  {
   "cell_type": "code",
   "execution_count": null,
   "metadata": {
    "collapsed": false
   },
   "outputs": [],
   "source": [
    "# A kolik jich je?\n",
    "vsechny_teploty.shape"
   ]
  },
  {
   "cell_type": "code",
   "execution_count": null,
   "metadata": {
    "collapsed": false
   },
   "outputs": [],
   "source": [
    "# Jsou všechny údaje v pořádku?\n",
    "vsechny_teploty.max()"
   ]
  },
  {
   "cell_type": "code",
   "execution_count": null,
   "metadata": {
    "collapsed": false
   },
   "outputs": [],
   "source": [
    "# Pro jistotu omezíme teploty na \"rozumné\" rozmezí\n",
    "vsechny_teploty = vsechny_teploty[vsechny_teploty > -50]\n",
    "vsechny_teploty = vsechny_teploty[vsechny_teploty < 50]"
   ]
  },
  {
   "cell_type": "markdown",
   "metadata": {},
   "source": [
    "## numpy"
   ]
  },
  {
   "cell_type": "code",
   "execution_count": null,
   "metadata": {
    "collapsed": false
   },
   "outputs": [],
   "source": [
    "counts, bins = np.histogram(vsechny_teploty)\n",
    "counts, bins"
   ]
  },
  {
   "cell_type": "markdown",
   "metadata": {},
   "source": [
    "### Co to udělá?\n",
    "\n",
    "Vrátí tuple, který obsahuje jednak obsah binů, jednak všechny hranice binů.\n",
    "\n",
    "*Poznámka: Hranice mezi biny jsou \"ošklivé\".*"
   ]
  },
  {
   "cell_type": "markdown",
   "metadata": {},
   "source": [
    "### Odkazy\n",
    "\n",
    "API dokumentace:\n",
    "\n",
    "* <https://docs.scipy.org/doc/numpy/reference/generated/numpy.histogram.html>"
   ]
  },
  {
   "cell_type": "markdown",
   "metadata": {},
   "source": [
    "## matplotlib"
   ]
  },
  {
   "cell_type": "code",
   "execution_count": null,
   "metadata": {
    "collapsed": true
   },
   "outputs": [],
   "source": [
    "import matplotlib.pyplot as plt\n",
    "%matplotlib inline"
   ]
  },
  {
   "cell_type": "code",
   "execution_count": null,
   "metadata": {
    "collapsed": false
   },
   "outputs": [],
   "source": [
    "plt.hist(vsechny_teploty, bins=20)"
   ]
  },
  {
   "cell_type": "markdown",
   "metadata": {},
   "source": [
    "### Co udělá?\n",
    "\n",
    "* nakreslí graf\n",
    "* vrátí tuple (bins, counts, list obdélníků), podobně jako numpy"
   ]
  },
  {
   "cell_type": "markdown",
   "metadata": {},
   "source": [
    "### Odkazy\n",
    "\n",
    "API dokumentace:\n",
    "\n",
    "* <http://matplotlib.org/api/pyplot_api.html#matplotlib.pyplot.hist>\n",
    "\n",
    "Příklady:\n",
    "\n",
    "* <http://matplotlib.org/examples/pylab_examples/histogram_percent_demo.html>\n",
    "* <http://matplotlib.org/examples/statistics/histogram_demo_multihist.html>"
   ]
  },
  {
   "cell_type": "markdown",
   "metadata": {},
   "source": [
    "## pandas"
   ]
  },
  {
   "cell_type": "code",
   "execution_count": null,
   "metadata": {
    "collapsed": false
   },
   "outputs": [],
   "source": [
    "pd.Series(vsechny_teploty).hist(bins=range(-20, 50, 5))"
   ]
  },
  {
   "cell_type": "markdown",
   "metadata": {},
   "source": [
    "### Co udělá?\n",
    "\n",
    "* nakreslí graf\n",
    "* vrátí objekt typu AxesSublot"
   ]
  },
  {
   "cell_type": "markdown",
   "metadata": {},
   "source": [
    "### Odkazy\n",
    "\n",
    "API dokumentace:\n",
    "    \n",
    "* <http://pandas.pydata.org/pandas-docs/stable/generated/pandas.Series.hist.html>\n",
    "* <http://pandas.pydata.org/pandas-docs/stable/generated/pandas.DataFrame.hist.html>"
   ]
  },
  {
   "cell_type": "markdown",
   "metadata": {},
   "source": [
    "## Seaborn (bonus)"
   ]
  },
  {
   "cell_type": "code",
   "execution_count": null,
   "metadata": {
    "collapsed": true
   },
   "outputs": [],
   "source": [
    "import seaborn as sns"
   ]
  },
  {
   "cell_type": "code",
   "execution_count": null,
   "metadata": {
    "collapsed": false
   },
   "outputs": [],
   "source": [
    "sns.distplot(vsechny_teploty, hist=True, kde=False)"
   ]
  },
  {
   "cell_type": "code",
   "execution_count": null,
   "metadata": {
    "collapsed": false
   },
   "outputs": [],
   "source": [
    "_, ax = plt.subplots()\n",
    "sns.distplot(vsechny_teploty, hist=False, kde=True, ax=ax)\n",
    "ax.set_xlim(-50, 50)"
   ]
  },
  {
   "cell_type": "markdown",
   "metadata": {},
   "source": [
    "### Odkazy\n",
    "\n",
    "API dokumentace:\n",
    "\n",
    "* <http://seaborn.pydata.org/generated/seaborn.distplot.html>\n",
    "\n",
    "Příklady:\n",
    "\n",
    "* <http://seaborn.pydata.org/examples/distplot_options.html>\n"
   ]
  }
 ],
 "metadata": {
  "anaconda-cloud": {},
  "kernelspec": {
   "display_name": "Python [conda root]",
   "language": "python",
   "name": "conda-root-py"
  },
  "language_info": {
   "codemirror_mode": {
    "name": "ipython",
    "version": 3
   },
   "file_extension": ".py",
   "mimetype": "text/x-python",
   "name": "python",
   "nbconvert_exporter": "python",
   "pygments_lexer": "ipython3",
   "version": "3.5.2"
  }
 },
 "nbformat": 4,
 "nbformat_minor": 2
}
