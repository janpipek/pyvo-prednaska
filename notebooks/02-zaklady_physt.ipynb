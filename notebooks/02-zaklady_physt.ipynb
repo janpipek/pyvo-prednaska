{
 "cells": [
  {
   "cell_type": "markdown",
   "metadata": {},
   "source": [
    "# 2. Základy knihovny physt"
   ]
  },
  {
   "cell_type": "code",
   "execution_count": null,
   "metadata": {
    "collapsed": true
   },
   "outputs": [],
   "source": [
    "# Nutné importy\n",
    "import pandas as pd\n",
    "import numpy as np\n",
    "import matplotlib.pyplot as plt\n",
    "%matplotlib inline"
   ]
  },
  {
   "cell_type": "code",
   "execution_count": null,
   "metadata": {
    "collapsed": false
   },
   "outputs": [],
   "source": [
    "# Pojďme si načíst data z předchozího příkladu (ale \"jenom\" milion)\n",
    "teploty = pd.read_csv(\"data/vsechny_teploty.csv.gz\", squeeze=True, dtype=np.float32, header=None, nrows=1100000)\n",
    "\n",
    "# Opět omezíme teploty na \"rozumné\" rozmezí\n",
    "teploty = teploty[teploty > -50]\n",
    "teploty = teploty[teploty < 60]\n",
    "teploty = teploty[:1000000]\n",
    "\n",
    "teploty.name = \"Teplota\""
   ]
  },
  {
   "cell_type": "code",
   "execution_count": null,
   "metadata": {
    "collapsed": false
   },
   "outputs": [],
   "source": [
    "teploty.head()"
   ]
  },
  {
   "cell_type": "code",
   "execution_count": null,
   "metadata": {
    "collapsed": false
   },
   "outputs": [],
   "source": [
    "import physt\n",
    "from physt import h1"
   ]
  },
  {
   "cell_type": "markdown",
   "metadata": {},
   "source": [
    "## Objektová reprezentace\n",
    "\n",
    "Nejjednodušší histogram"
   ]
  },
  {
   "cell_type": "code",
   "execution_count": null,
   "metadata": {
    "collapsed": false
   },
   "outputs": [],
   "source": [
    "H = physt.h1(teploty)\n",
    "H"
   ]
  },
  {
   "cell_type": "code",
   "execution_count": null,
   "metadata": {
    "collapsed": false
   },
   "outputs": [],
   "source": [
    "# Odpovídá stejnému volání v numpy\n",
    "H.numpy_like()"
   ]
  },
  {
   "cell_type": "code",
   "execution_count": null,
   "metadata": {
    "collapsed": false
   },
   "outputs": [],
   "source": [
    "# Trošku vivisekce histogramu neuškodí\n",
    "H.to_dict()"
   ]
  },
  {
   "cell_type": "code",
   "execution_count": null,
   "metadata": {
    "collapsed": false
   },
   "outputs": [],
   "source": [
    "H.plot()"
   ]
  },
  {
   "cell_type": "markdown",
   "metadata": {},
   "source": [
    "## \"inteligentní\" biny"
   ]
  },
  {
   "cell_type": "markdown",
   "metadata": {},
   "source": [
    "### Pevná šířka"
   ]
  },
  {
   "cell_type": "code",
   "execution_count": null,
   "metadata": {
    "collapsed": false
   },
   "outputs": [],
   "source": [
    "H = physt.h1(teploty, \"fixed_width\", bin_width=1, adaptive=True )\n",
    "H.plot()\n",
    "H.numpy_like()"
   ]
  },
  {
   "cell_type": "code",
   "execution_count": null,
   "metadata": {
    "collapsed": false
   },
   "outputs": [],
   "source": [
    "H._binning.to_dict()"
   ]
  },
  {
   "cell_type": "code",
   "execution_count": null,
   "metadata": {
    "collapsed": false
   },
   "outputs": [],
   "source": [
    "# Na úrovni nejnižšího rozlišení\n",
    "H = physt.h1(teploty, \"fixed_width\", bin_width=.1, adaptive=True, range=(-5, 5))\n",
    "H.plot()"
   ]
  },
  {
   "cell_type": "markdown",
   "metadata": {},
   "source": [
    "To nebude dobře, začínáme si hrát se zaokrouhlovací chybou!\n",
    "\n",
    "Trochu to ošidíme (pro počítač je šesté desetinné místo zajímavé), pro nás ne."
   ]
  },
  {
   "cell_type": "code",
   "execution_count": null,
   "metadata": {
    "collapsed": false
   },
   "outputs": [],
   "source": [
    "H = physt.h1(teploty, \"fixed_width\", bin_width=.099999, adaptive=True, range=(-5, 5))\n",
    "H.plot()"
   ]
  },
  {
   "cell_type": "markdown",
   "metadata": {
    "collapsed": false
   },
   "source": [
    "**Varování**: Vyhýbejte se hodnotám na hranici binu a mějte opravdu \"float\" data"
   ]
  },
  {
   "cell_type": "code",
   "execution_count": null,
   "metadata": {
    "collapsed": false
   },
   "outputs": [],
   "source": [
    "H = physt.h1(teploty, \"fixed_width\", bin_width=.099999, bin_shift=0.001, adaptive=True)\n",
    "H.plot(\"line\")"
   ]
  },
  {
   "cell_type": "markdown",
   "metadata": {},
   "source": [
    "### Automatická vhodná šířka (\"human\")"
   ]
  },
  {
   "cell_type": "code",
   "execution_count": null,
   "metadata": {
    "collapsed": false
   },
   "outputs": [],
   "source": [
    "H = physt.h1(teploty, \"human\")\n",
    "H.plot(show_values=True, value_format=lambda x:int(x / 1000))\n",
    "H.numpy_bins"
   ]
  },
  {
   "cell_type": "code",
   "execution_count": null,
   "metadata": {
    "collapsed": false
   },
   "outputs": [],
   "source": [
    "for n in [3, 7, 10, 15, 20, 40, 50]:\n",
    "    H = physt.h1(teploty, \"human\", n)\n",
    "    print(n, H.bin_count, H._binning.bin_width)"
   ]
  },
  {
   "cell_type": "markdown",
   "metadata": {},
   "source": [
    "### Biny o stejném obsahu"
   ]
  },
  {
   "cell_type": "code",
   "execution_count": null,
   "metadata": {
    "collapsed": false
   },
   "outputs": [],
   "source": [
    "H = physt.h1(teploty, \"quantile\", 30)    \n",
    "H.plot()     # Mělo by být stejně široké! Ale není\n",
    "H.numpy_like()"
   ]
  },
  {
   "cell_type": "code",
   "execution_count": null,
   "metadata": {
    "collapsed": false
   },
   "outputs": [],
   "source": [
    "physt.h1(teploty, \"quantile\", 30).plot(density=True)"
   ]
  },
  {
   "cell_type": "markdown",
   "metadata": {},
   "source": [
    "### Exponenciální"
   ]
  },
  {
   "cell_type": "code",
   "execution_count": null,
   "metadata": {
    "collapsed": false
   },
   "outputs": [],
   "source": [
    "# Teploty (zatím) nejsou exponenciální, tak jiná data:\n",
    "countries = pd.read_csv(\"https://www.worlddata.info/download/countries.csv\", delimiter=\";\")\n",
    "countries = countries[(countries.Population > 0) & (countries.Area > 0)]"
   ]
  },
  {
   "cell_type": "code",
   "execution_count": null,
   "metadata": {
    "collapsed": false
   },
   "outputs": [],
   "source": [
    "h1(countries.Population).plot()"
   ]
  },
  {
   "cell_type": "code",
   "execution_count": null,
   "metadata": {
    "collapsed": false
   },
   "outputs": [],
   "source": [
    "h1(countries.Population, \"exponential\").plot()"
   ]
  },
  {
   "cell_type": "markdown",
   "metadata": {},
   "source": [
    "## Plnění histogramů"
   ]
  },
  {
   "cell_type": "code",
   "execution_count": null,
   "metadata": {
    "collapsed": false
   },
   "outputs": [],
   "source": [
    "np.random.seed(42)\n",
    "H = physt.h1(None, \"fixed_width\", 5, adaptive=True)\n",
    "H"
   ]
  },
  {
   "cell_type": "code",
   "execution_count": null,
   "metadata": {
    "collapsed": false
   },
   "outputs": [],
   "source": [
    "H.fill_n(np.random.choice(teploty, 1000))\n",
    "H.plot(\"bar\", errors=True, density=True)\n",
    "H"
   ]
  },
  {
   "cell_type": "code",
   "execution_count": null,
   "metadata": {
    "collapsed": true
   },
   "outputs": [],
   "source": []
  }
 ],
 "metadata": {
  "anaconda-cloud": {},
  "kernelspec": {
   "display_name": "Python [conda root]",
   "language": "python",
   "name": "conda-root-py"
  },
  "language_info": {
   "codemirror_mode": {
    "name": "ipython",
    "version": 3
   },
   "file_extension": ".py",
   "mimetype": "text/x-python",
   "name": "python",
   "nbconvert_exporter": "python",
   "pygments_lexer": "ipython3",
   "version": "3.5.2"
  }
 },
 "nbformat": 4,
 "nbformat_minor": 2
}
