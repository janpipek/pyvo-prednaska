{
 "cells": [
  {
   "cell_type": "markdown",
   "metadata": {},
   "source": [
    "# 3. Adaptivní 2D histogramy"
   ]
  },
  {
   "cell_type": "code",
   "execution_count": null,
   "metadata": {
    "collapsed": true
   },
   "outputs": [],
   "source": [
    "import pandas as pd\n",
    "import os\n",
    "import numpy as np\n",
    "import physt\n",
    "from physt import h1, h2, h3\n",
    "import matplotlib.pyplot as plt\n",
    "import datetime\n",
    "%matplotlib inline"
   ]
  },
  {
   "cell_type": "code",
   "execution_count": null,
   "metadata": {
    "collapsed": true
   },
   "outputs": [],
   "source": [
    "# Pandas magic box (nebudu prozrazovat)\n",
    "def read_data(path, clean=True):\n",
    "    data = pd.read_csv(path, delimiter=\";\", decimal=\",\", header=None, names=[\"cas\", \"misto\", \"teplota\"])\n",
    "    data[\"cas\"] = pd.to_datetime(data.cas)\n",
    "    data[\"rok\"] = data.cas.dt.year\n",
    "    if clean:\n",
    "        data = data[(data.rok >= 2014 ) & (data.rok <= 2015)]\n",
    "    data[\"id\"] = data.misto.str.extract(\"(?<=\\\\\\\\)(.*)(?=\\\\\\\\)\").str.lower()\n",
    "    data[\"mesic\"] = data.cas.dt.month\n",
    "    data[\"hodina\"] = data.cas.dt.hour\n",
    "    data[\"den_v_roce\"] = data.cas.dt.dayofyear\n",
    "    data[\"den_v_tydnu\"] = (data.cas.dt.dayofweek - 1) % 7 + 1\n",
    "    data[\"sekunda_dne\"] = data.cas.dt.hour * 3600 + data.cas.dt.minute * 60 + data.cas.dt.second\n",
    "    del data[\"misto\"]\n",
    "    if clean:\n",
    "        data = data[(data.teplota < 50) & (data.teplota > -40)]\n",
    "    return data"
   ]
  },
  {
   "cell_type": "code",
   "execution_count": null,
   "metadata": {
    "collapsed": false
   },
   "outputs": [],
   "source": [
    "# Jenom se podíváme na data, jak vypadají\n",
    "read_data(\"data/Veveří.zip\").head()"
   ]
  },
  {
   "cell_type": "code",
   "execution_count": null,
   "metadata": {
    "collapsed": false
   },
   "outputs": [],
   "source": [
    "# Vytvoříme 3D histogramy a uložíme si je vedle\n",
    "def create_histograms():\n",
    "    import glob\n",
    "    soubory = glob.glob(\"data/*.zip\")\n",
    "    \n",
    "    for path in soubory:\n",
    "        jmeno = path.split(\"/\")[1].split(\".\")[0]\n",
    "        data = read_data(path)\n",
    "        histogram = h3([data.mesic, data.hodina, data.teplota],\n",
    "                       (\"integer\", \"fixed_width\", \"fixed_width\"),\n",
    "                       bin_width=(1, 1, 1),\n",
    "                       adaptive=True,\n",
    "                       name=jmeno)\n",
    "        histogram.to_json(path = os.path.join(\"../data\", jmeno + \".json\"), indent=2)\n",
    "        print(jmeno + \" uložen/a/o.\")\n",
    "\n",
    "# create_histograms()"
   ]
  },
  {
   "cell_type": "code",
   "execution_count": null,
   "metadata": {
    "collapsed": false
   },
   "outputs": [],
   "source": [
    "from physt.io import load_json\n",
    "histogramy = { \n",
    "    soubor.split(\"/\")[-1].split(\".\")[0] : load_json(soubor)\n",
    "    for soubor in glob.glob(\"../data/*json\") \n",
    "}"
   ]
  },
  {
   "cell_type": "code",
   "execution_count": null,
   "metadata": {
    "collapsed": false
   },
   "outputs": [],
   "source": [
    "histogramy"
   ]
  },
  {
   "cell_type": "code",
   "execution_count": null,
   "metadata": {
    "collapsed": false
   },
   "outputs": [],
   "source": [
    "# Pro ilustraci si zobrazíme, kolik dat je odkud\n",
    "import seaborn.apionly as sns\n",
    "ax = sns.barplot([h.name for h in histogramy.values()], [h.total for h in histogramy.values()])\n",
    "ax.set_xticklabels([h.name for h in histogramy.values()], rotation=90);"
   ]
  },
  {
   "cell_type": "markdown",
   "metadata": {},
   "source": [
    "##  Aritmetika"
   ]
  },
  {
   "cell_type": "code",
   "execution_count": null,
   "metadata": {
    "collapsed": false
   },
   "outputs": [],
   "source": [
    "histogramy[\"Komín\"] + histogramy[\"Černá Pole\"]"
   ]
  },
  {
   "cell_type": "code",
   "execution_count": null,
   "metadata": {
    "collapsed": false
   },
   "outputs": [],
   "source": [
    "histogramy[\"Černá Pole\"] - histogramy[\"Komín\"]   # Co je tohle???"
   ]
  },
  {
   "cell_type": "code",
   "execution_count": null,
   "metadata": {
    "collapsed": false
   },
   "outputs": [],
   "source": [
    "histogramy[\"Komín\"] / 78"
   ]
  },
  {
   "cell_type": "markdown",
   "metadata": {},
   "source": [
    "Sečteme všechny!"
   ]
  },
  {
   "cell_type": "code",
   "execution_count": null,
   "metadata": {
    "collapsed": false
   },
   "outputs": [],
   "source": [
    "brno = sum(histogramy.values())\n",
    "brno"
   ]
  },
  {
   "cell_type": "markdown",
   "metadata": {},
   "source": [
    "## Projekce"
   ]
  },
  {
   "cell_type": "code",
   "execution_count": null,
   "metadata": {
    "collapsed": false
   },
   "outputs": [],
   "source": [
    "mesice = brno.projection(\"mesic\")\n",
    "mesice.plot()\n",
    "mesice"
   ]
  },
  {
   "cell_type": "code",
   "execution_count": null,
   "metadata": {
    "collapsed": false
   },
   "outputs": [],
   "source": [
    "# Nezměříme délku měsíců?\n",
    "(mesice.normalize() * 365.25).plot(show_values=True, value_format=\".1f\");"
   ]
  },
  {
   "cell_type": "markdown",
   "metadata": {},
   "source": [
    "### Dvourozměrná projekce"
   ]
  },
  {
   "cell_type": "code",
   "execution_count": null,
   "metadata": {
    "collapsed": false
   },
   "outputs": [],
   "source": [
    "H = brno.projection(\"mesic\", \"teplota\")\n",
    "H.plot(lw=0, ylim=(-20, 40), show_colorbar=True)\n",
    "H\n"
   ]
  },
  {
   "cell_type": "code",
   "execution_count": null,
   "metadata": {
    "collapsed": false
   },
   "outputs": [],
   "source": [
    "# Normalizujeme\n",
    "H = brno.projection(\"hodina\", \"teplota\")\n",
    "H.normalize().plot(lw=0, ylim=(-20, 40), show_colorbar=True)\n",
    "H\n"
   ]
  },
  {
   "cell_type": "markdown",
   "metadata": {},
   "source": [
    "## Částečná normalizace"
   ]
  },
  {
   "cell_type": "code",
   "execution_count": null,
   "metadata": {
    "collapsed": false
   },
   "outputs": [],
   "source": [
    "H.partial_normalize(\"hodina\").plot(lw=0, ylim=(-20, 40), show_colorbar=False, cmap=\"Reds\")"
   ]
  },
  {
   "cell_type": "markdown",
   "metadata": {},
   "source": [
    "## Výběr části"
   ]
  },
  {
   "cell_type": "code",
   "execution_count": null,
   "metadata": {
    "collapsed": false
   },
   "outputs": [],
   "source": [
    "brno.name = \"Brno\""
   ]
  },
  {
   "cell_type": "code",
   "execution_count": null,
   "metadata": {
    "collapsed": false
   },
   "outputs": [],
   "source": [
    "fig, axes = plt.subplots(2, 2, figsize=(8, 8))\n",
    "brno.select(\"mesic\", 0).plot(\"image\", cmap=\"Blues\",ax=axes[0][0], show_colorbar=False)\n",
    "brno.select(\"mesic\", 3).plot(\"image\", cmap=\"Greens\",ax=axes[0][1], show_colorbar=False)\n",
    "brno.select(\"mesic\", 6).plot(\"image\", cmap=\"Reds\",ax=axes[1][0], show_colorbar=False)\n",
    "brno.select(\"mesic\", 9).plot(\"image\", cmap=\"Oranges\",ax=axes[1][1], show_colorbar=False)\n",
    "axes[0][0].set_title(\"Leden\")\n",
    "axes[0][1].set_title(\"Duben\")\n",
    "axes[1][0].set_title(\"Červenec\")\n",
    "axes[1][1].set_title(\"Září\")"
   ]
  },
  {
   "cell_type": "code",
   "execution_count": null,
   "metadata": {
    "collapsed": false
   },
   "outputs": [],
   "source": [
    "brno.projection(\"mesic\", \"teplota\").partial_normalize(\"teplota\").plot(ylim=(-24, 45), show_values=True, show_zero=False, figsize=(12, 12), value_format=lambda x: \"{0:.1f} %\".format(x*100), show_colorbar=0)"
   ]
  },
  {
   "cell_type": "code",
   "execution_count": null,
   "metadata": {
    "collapsed": false
   },
   "outputs": [],
   "source": [
    "brno.projection(\"mesic\", \"teplota\").merge_bins(5, axis=1).partial_normalize(\"teplota\").plot(show_values=True, value_format=lambda x: \"{0} %\".format(int(np.round(x*100))), show_colorbar=0)"
   ]
  }
 ],
 "metadata": {
  "anaconda-cloud": {},
  "kernelspec": {
   "display_name": "Python [conda root]",
   "language": "python",
   "name": "conda-root-py"
  },
  "language_info": {
   "codemirror_mode": {
    "name": "ipython",
    "version": 3
   },
   "file_extension": ".py",
   "mimetype": "text/x-python",
   "name": "python",
   "nbconvert_exporter": "python",
   "pygments_lexer": "ipython3",
   "version": "3.5.2"
  }
 },
 "nbformat": 4,
 "nbformat_minor": 2
}
